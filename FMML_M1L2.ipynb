{
  "cells": [
    {
      "cell_type": "markdown",
      "metadata": {
        "id": "view-in-github",
        "colab_type": "text"
      },
      "source": [
        "<a href=\"https://colab.research.google.com/github/Himasri17/FMML/blob/main/FMML_M1L2.ipynb\" target=\"_parent\"><img src=\"https://colab.research.google.com/assets/colab-badge.svg\" alt=\"Open In Colab\"/></a>"
      ]
    },
    {
      "cell_type": "markdown",
      "metadata": {
        "id": "3Eu9VZbF01eq"
      },
      "source": [
        "# Machine Learning terms and metrics\n",
        "\n",
        "FMML Module 1, Lab 2\n",
        "\n",
        "In this lab, we will show a part of the ML pipeline by using the California Housing dataset. There are 20640 samples, each with 8 attributes like income of the block, age of the houses per district etc. The task is to predict the cost of the houses per district. We will use the scikit-learn library to load the data and perform some basic data preprocessing and model training. We will also show how to evaluate the model using some common metrics, split the data into training and testing sets, and use cross-validation to get a better estimate of the model's performance."
      ]
    },
    {
      "cell_type": "code",
      "execution_count": 1,
      "metadata": {
        "id": "8qBvyEem0vLi"
      },
      "outputs": [],
      "source": [
        "import numpy as np\n",
        "from sklearn import datasets\n",
        "import matplotlib.pyplot as plt\n",
        "\n",
        "rng = np.random.default_rng(seed=42)"
      ]
    },
    {
      "cell_type": "code",
      "execution_count": 2,
      "metadata": {
        "colab": {
          "base_uri": "https://localhost:8080/"
        },
        "id": "8LpqjN991GGJ",
        "outputId": "59d08dbd-cc17-45e3-c29b-ec35cc41199b"
      },
      "outputs": [
        {
          "output_type": "stream",
          "name": "stdout",
          "text": [
            ".. _california_housing_dataset:\n",
            "\n",
            "California Housing dataset\n",
            "--------------------------\n",
            "\n",
            "**Data Set Characteristics:**\n",
            "\n",
            "    :Number of Instances: 20640\n",
            "\n",
            "    :Number of Attributes: 8 numeric, predictive attributes and the target\n",
            "\n",
            "    :Attribute Information:\n",
            "        - MedInc        median income in block group\n",
            "        - HouseAge      median house age in block group\n",
            "        - AveRooms      average number of rooms per household\n",
            "        - AveBedrms     average number of bedrooms per household\n",
            "        - Population    block group population\n",
            "        - AveOccup      average number of household members\n",
            "        - Latitude      block group latitude\n",
            "        - Longitude     block group longitude\n",
            "\n",
            "    :Missing Attribute Values: None\n",
            "\n",
            "This dataset was obtained from the StatLib repository.\n",
            "https://www.dcc.fc.up.pt/~ltorgo/Regression/cal_housing.html\n",
            "\n",
            "The target variable is the median house value for California districts,\n",
            "expressed in hundreds of thousands of dollars ($100,000).\n",
            "\n",
            "This dataset was derived from the 1990 U.S. census, using one row per census\n",
            "block group. A block group is the smallest geographical unit for which the U.S.\n",
            "Census Bureau publishes sample data (a block group typically has a population\n",
            "of 600 to 3,000 people).\n",
            "\n",
            "A household is a group of people residing within a home. Since the average\n",
            "number of rooms and bedrooms in this dataset are provided per household, these\n",
            "columns may take surprisingly large values for block groups with few households\n",
            "and many empty houses, such as vacation resorts.\n",
            "\n",
            "It can be downloaded/loaded using the\n",
            ":func:`sklearn.datasets.fetch_california_housing` function.\n",
            "\n",
            ".. topic:: References\n",
            "\n",
            "    - Pace, R. Kelley and Ronald Barry, Sparse Spatial Autoregressions,\n",
            "      Statistics and Probability Letters, 33 (1997) 291-297\n",
            "\n"
          ]
        }
      ],
      "source": [
        "dataset = datasets.fetch_california_housing()\n",
        "# Dataset description\n",
        "print(dataset.DESCR)"
      ]
    },
    {
      "cell_type": "markdown",
      "metadata": {
        "id": "PCe1VNftevgE"
      },
      "source": [
        "Given below are the list of target values. These correspond to the house value derived considering all the 8 input features and are continuous values. We should use regression models to predict these values but we will start with a simple classification model for the sake of simplicity. We need to just round off the values to the nearest integer and use a classification model to predict the house value."
      ]
    },
    {
      "cell_type": "code",
      "execution_count": 3,
      "metadata": {
        "colab": {
          "base_uri": "https://localhost:8080/"
        },
        "id": "F8K0ggBOevgE",
        "outputId": "2d403428-96b9-4ae0-c6df-bba82a255cb2"
      },
      "outputs": [
        {
          "output_type": "stream",
          "name": "stdout",
          "text": [
            "Orignal target values: [4.526 3.585 3.521 ... 0.923 0.847 0.894]\n",
            "Target values after conversion: [4 3 3 ... 0 0 0]\n",
            "Input variables shape: (20640, 8)\n",
            "Output variables shape: (20640,)\n"
          ]
        }
      ],
      "source": [
        "print(\"Orignal target values:\", dataset.target)\n",
        "\n",
        "dataset.target = dataset.target.astype(int)\n",
        "\n",
        "print(\"Target values after conversion:\", dataset.target)\n",
        "print(\"Input variables shape:\", dataset.data.shape)\n",
        "print(\"Output variables shape:\", dataset.target.shape)"
      ]
    },
    {
      "cell_type": "markdown",
      "metadata": {
        "id": "iNx4174W5xRg"
      },
      "source": [
        "The simplest model to use for classification is the K-Nearest Neighbors model. We will use this model to predict the house value with a K value of 1. We will also use the accuracy metric to evaluate the model."
      ]
    },
    {
      "cell_type": "code",
      "execution_count": 4,
      "metadata": {
        "id": "07zpydQj1hIQ"
      },
      "outputs": [],
      "source": [
        "def NN1(traindata, trainlabel, query):\n",
        "    \"\"\"\n",
        "    This function takes in the training data, training labels and a query point\n",
        "    and returns the predicted label for the query point using the nearest neighbour algorithm\n",
        "\n",
        "    traindata: numpy array of shape (n,d) where n is the number of samples and d is the number of features\n",
        "    trainlabel: numpy array of shape (n,) where n is the number of samples\n",
        "    query: numpy array of shape (d,) where d is the number of features\n",
        "\n",
        "    returns: the predicted label for the query point which is the label of the training data which is closest to the query point\n",
        "    \"\"\"\n",
        "    diff = (\n",
        "        traindata - query\n",
        "    )  # find the difference between features. Numpy automatically takes care of the size here\n",
        "    sq = diff * diff  # square the differences\n",
        "    dist = sq.sum(1)  # add up the squares\n",
        "    label = trainlabel[np.argmin(dist)]\n",
        "    return label\n",
        "\n",
        "\n",
        "def NN(traindata, trainlabel, testdata):\n",
        "    \"\"\"\n",
        "    This function takes in the training data, training labels and test data\n",
        "    and returns the predicted labels for the test data using the nearest neighbour algorithm\n",
        "\n",
        "    traindata: numpy array of shape (n,d) where n is the number of samples and d is the number of features\n",
        "    trainlabel: numpy array of shape (n,) where n is the number of samples\n",
        "    testdata: numpy array of shape (m,d) where m is the number of test samples and d is the number of features\n",
        "\n",
        "    returns: the predicted labels for the test data which is the label of the training data which is closest to each test point\n",
        "    \"\"\"\n",
        "    predlabel = np.array([NN1(traindata, trainlabel, i) for i in testdata])\n",
        "    return predlabel"
      ]
    },
    {
      "cell_type": "markdown",
      "metadata": {
        "id": "03JktkfIGaje"
      },
      "source": [
        "We will also define a 'random classifier', which randomly allots labels to each sample"
      ]
    },
    {
      "cell_type": "code",
      "execution_count": 5,
      "metadata": {
        "id": "fogWAtjyGhAH"
      },
      "outputs": [],
      "source": [
        "def RandomClassifier(traindata, trainlabel, testdata):\n",
        "    \"\"\"\n",
        "    This function takes in the training data, training labels and test data\n",
        "    and returns the predicted labels for the test data using the random classifier algorithm\n",
        "\n",
        "    In reality, we don't need these arguments but we are passing them to keep the function signature consistent with other classifiers\n",
        "\n",
        "    traindata: numpy array of shape (n,d) where n is the number of samples and d is the number of features\n",
        "    trainlabel: numpy array of shape (n,) where n is the number of samples\n",
        "    testdata: numpy array of shape (m,d) where m is the number of test samples and d is the number of features\n",
        "\n",
        "    returns: the predicted labels for the test data which is a random label from the training data\n",
        "    \"\"\"\n",
        "\n",
        "    classes = np.unique(trainlabel)\n",
        "    rints = rng.integers(low=0, high=len(classes), size=len(testdata))\n",
        "    predlabel = classes[rints]\n",
        "    return predlabel"
      ]
    },
    {
      "cell_type": "markdown",
      "metadata": {
        "id": "1Hjf1KHs7fU5"
      },
      "source": [
        "We need a metric to evaluate the performance of the model. Let us define a metric 'Accuracy' to see how good our learning algorithm is. Accuracy is the ratio of the number of correctly classified samples to the total number of samples. The higher the accuracy, the better the algorithm. We will use the accuracy metric to evaluate and compate the performance of the K-Nearest Neighbors model and the random classifier."
      ]
    },
    {
      "cell_type": "code",
      "execution_count": 6,
      "metadata": {
        "id": "ouuCqWU07bz-"
      },
      "outputs": [],
      "source": [
        "def Accuracy(gtlabel, predlabel):\n",
        "    \"\"\"\n",
        "    This function takes in the ground-truth labels and predicted labels\n",
        "    and returns the accuracy of the classifier\n",
        "\n",
        "    gtlabel: numpy array of shape (n,) where n is the number of samples\n",
        "    predlabel: numpy array of shape (n,) where n is the number of samples\n",
        "\n",
        "    returns: the accuracy of the classifier which is the number of correct predictions divided by the total number of predictions\n",
        "    \"\"\"\n",
        "    assert len(gtlabel) == len(\n",
        "        predlabel\n",
        "    ), \"Length of the ground-truth labels and predicted labels should be the same\"\n",
        "    correct = (\n",
        "        gtlabel == predlabel\n",
        "    ).sum()  # count the number of times the groundtruth label is equal to the predicted label.\n",
        "    return correct / len(gtlabel)"
      ]
    },
    {
      "cell_type": "markdown",
      "metadata": {
        "id": "4vJFwBFa9Klw"
      },
      "source": [
        "Let us make a function to split the dataset with the desired probability. We will use this function to split the dataset into training and testing sets. We will use the training set to train the model and the testing set to evaluate the model."
      ]
    },
    {
      "cell_type": "code",
      "execution_count": 7,
      "metadata": {
        "id": "Ko0VzpSM2Tdi"
      },
      "outputs": [],
      "source": [
        "def split(data, label, percent):\n",
        "    # generate a random number for each sample\n",
        "    rnd = rng.random(len(label))\n",
        "    split1 = rnd < percent\n",
        "    split2 = rnd >= percent\n",
        "\n",
        "    split1data = data[split1, :]\n",
        "    split1label = label[split1]\n",
        "    split2data = data[split2, :]\n",
        "    split2label = label[split2]\n",
        "    return split1data, split1label, split2data, split2label"
      ]
    },
    {
      "cell_type": "markdown",
      "metadata": {
        "id": "AcK3LEAJ_LGC"
      },
      "source": [
        "We will reserve 20% of our dataset as the test set. We will not change this portion throughout our experiments"
      ]
    },
    {
      "cell_type": "code",
      "execution_count": 8,
      "metadata": {
        "colab": {
          "base_uri": "https://localhost:8080/"
        },
        "id": "bBZkHBLJ1iU-",
        "outputId": "f57d2188-a363-4bd6-9c4d-c0d8d8fafa10"
      },
      "outputs": [
        {
          "output_type": "stream",
          "name": "stdout",
          "text": [
            "Number of test samples: 4144\n",
            "Number of train samples: 16496\n",
            "Percent of test data: 20.07751937984496 %\n"
          ]
        }
      ],
      "source": [
        "testdata, testlabel, alltraindata, alltrainlabel = split(\n",
        "    dataset.data, dataset.target, 20 / 100\n",
        ")\n",
        "print(\"Number of test samples:\", len(testlabel))\n",
        "print(\"Number of train samples:\", len(alltrainlabel))\n",
        "print(\"Percent of test data:\", len(testlabel) * 100 / len(dataset.target), \"%\")"
      ]
    },
    {
      "cell_type": "markdown",
      "metadata": {
        "id": "a6Ss0Z6IAGNV"
      },
      "source": [
        "## Experiments with splits\n",
        "\n",
        "Let us reserve some of our train data as a validation set"
      ]
    },
    {
      "cell_type": "code",
      "execution_count": 9,
      "metadata": {
        "id": "WFew2iry_7W7"
      },
      "outputs": [],
      "source": [
        "traindata, trainlabel, valdata, vallabel = split(\n",
        "    alltraindata, alltrainlabel, 75 / 100)"
      ]
    },
    {
      "cell_type": "markdown",
      "metadata": {
        "id": "60hiu4clFN1i"
      },
      "source": [
        "What is the accuracy of our classifiers on the train dataset?"
      ]
    },
    {
      "cell_type": "code",
      "execution_count": 10,
      "metadata": {
        "colab": {
          "base_uri": "https://localhost:8080/"
        },
        "id": "DBlZDTHUFTZx",
        "outputId": "6ddf87c6-3e20-4065-b7be-a34ea2778669"
      },
      "outputs": [
        {
          "output_type": "stream",
          "name": "stdout",
          "text": [
            "Training accuracy using nearest neighbour algorithm: 100.0 %\n",
            "Training accuracy using random classifier:  16.4375808538163 %\n"
          ]
        }
      ],
      "source": [
        "trainpred = NN(traindata, trainlabel, traindata)\n",
        "trainAccuracy = Accuracy(trainlabel, trainpred)\n",
        "print(\"Training accuracy using nearest neighbour algorithm:\", trainAccuracy*100, \"%\")\n",
        "\n",
        "trainpred = RandomClassifier(traindata, trainlabel, traindata)\n",
        "trainAccuracy = Accuracy(trainlabel, trainpred)\n",
        "print(\"Training accuracy using random classifier: \", trainAccuracy*100, \"%\")"
      ]
    },
    {
      "cell_type": "markdown",
      "metadata": {
        "id": "7h08-9gJDtSy"
      },
      "source": [
        "For nearest neighbour, the train accuracy is always 1. The accuracy of the random classifier is close to 1/(number of classes) which is 0.1666 in our case. This is because the random classifier randomly assigns a label to each sample and the probability of assigning the correct label is 1/(number of classes). Let us predict the labels for our validation set and get the accuracy. This accuracy is a good estimate of the accuracy of our model on unseen data."
      ]
    },
    {
      "cell_type": "code",
      "execution_count": 11,
      "metadata": {
        "colab": {
          "base_uri": "https://localhost:8080/"
        },
        "id": "4h7bXoW_2H3v",
        "outputId": "8257c010-c147-4846-e5d2-8467208e5ff9"
      },
      "outputs": [
        {
          "output_type": "stream",
          "name": "stdout",
          "text": [
            "Validation accuracy using nearest neighbour algorithm: 34.10852713178294 %\n",
            "Validation accuracy using random classifier: 16.884689922480618 %\n"
          ]
        }
      ],
      "source": [
        "valpred = NN(traindata, trainlabel, valdata)\n",
        "valAccuracy = Accuracy(vallabel, valpred)\n",
        "print(\"Validation accuracy using nearest neighbour algorithm:\", valAccuracy*100, \"%\")\n",
        "\n",
        "\n",
        "valpred = RandomClassifier(traindata, trainlabel, valdata)\n",
        "valAccuracy = Accuracy(vallabel, valpred)\n",
        "print(\"Validation accuracy using random classifier:\", valAccuracy*100, \"%\")"
      ]
    },
    {
      "cell_type": "markdown",
      "metadata": {
        "id": "py9bLguFEjfg"
      },
      "source": [
        "Validation accuracy of nearest neighbour is considerably less than its train accuracy while the validation accuracy of random classifier is the same. However, the validation accuracy of nearest neighbour is twice that of the random classifier. Now let us try another random split and check the validation accuracy. We will see that the validation accuracy changes with the split. This is because the validation set is small and the accuracy is highly dependent on the samples in the validation set. We can get a better estimate of the accuracy by using cross-validation."
      ]
    },
    {
      "cell_type": "code",
      "execution_count": 12,
      "metadata": {
        "colab": {
          "base_uri": "https://localhost:8080/"
        },
        "id": "ujm3cyYzEntE",
        "outputId": "9f3938af-11c7-4bdd-8776-d96b49b1e5fe"
      },
      "outputs": [
        {
          "output_type": "stream",
          "name": "stdout",
          "text": [
            "Validation accuracy using nearest neighbour algorithm: 34.048257372654156 %\n"
          ]
        }
      ],
      "source": [
        "traindata, trainlabel, valdata, vallabel = split(\n",
        "    alltraindata, alltrainlabel, 75 / 100)\n",
        "valpred = NN(traindata, trainlabel, valdata)\n",
        "valAccuracy = Accuracy(vallabel, valpred)\n",
        "print(\"Validation accuracy using nearest neighbour algorithm:\", valAccuracy*100, \"%\")"
      ]
    },
    {
      "cell_type": "markdown",
      "metadata": {
        "id": "oSOx7U83EKie"
      },
      "source": [
        "You can run the above cell multiple times to try with different random splits.\n",
        "We notice that the accuracy is different for each run, but close together.\n",
        "\n",
        "Now let us compare it with the accuracy we get on the test dataset."
      ]
    },
    {
      "cell_type": "code",
      "execution_count": 13,
      "metadata": {
        "colab": {
          "base_uri": "https://localhost:8080/"
        },
        "id": "PNEZ5ToYBEDW",
        "outputId": "d595afdf-ec57-4487-e84e-047ffc88df45"
      },
      "outputs": [
        {
          "output_type": "stream",
          "name": "stdout",
          "text": [
            "Test accuracy: 34.91795366795367 %\n"
          ]
        }
      ],
      "source": [
        "testpred = NN(alltraindata, alltrainlabel, testdata)\n",
        "testAccuracy = Accuracy(testlabel, testpred)\n",
        "\n",
        "print(\"Test accuracy:\", testAccuracy*100, \"%\")"
      ]
    },
    {
      "cell_type": "markdown",
      "metadata": {
        "id": "w3dGD531K3gH"
      },
      "source": [
        "### Try it out for yourself and answer:\n",
        "1. How is the accuracy of the validation set affected if we increase the percentage of validation set? What happens when we reduce it?\n",
        "2. How does the size of the train and validation set affect how well we can predict the accuracy on the test set using the validation set?\n",
        "3. What do you think is a good percentage to reserve for the validation set so that thest two factors are balanced?\n",
        "\n",
        "Answer for both nearest neighbour and random classifier. You can note down the values for your experiments and plot a graph using  <a href=https://matplotlib.org/stable/gallery/lines_bars_and_markers/step_demo.html#sphx-glr-gallery-lines-bars-and-markers-step-demo-py>plt.plot<href>. Check also for extreme values for splits, like 99.9% or 0.1%"
      ]
    },
    {
      "cell_type": "markdown",
      "metadata": {
        "id": "M9zvdYY6evgI"
      },
      "source": [
        "> Exercise: Try to implement a 3 nearest neighbour classifier and compare the accuracy of the 1 nearest neighbour classifier and the 3 nearest neighbour classifier on the test dataset. You can use the KNeighborsClassifier class from the scikit-learn library to implement the K-Nearest Neighbors model. You can set the number of neighbors using the n_neighbors parameter. You can also use the accuracy_score function from the scikit-learn library to calculate the accuracy of the model."
      ]
    },
    {
      "cell_type": "markdown",
      "metadata": {
        "id": "PnYvkAZLQY7h"
      },
      "source": [
        "## Multiple Splits\n",
        "\n",
        "One way to get more accurate estimates for the test accuracy is by using <b>cross-validation</b>. Here, we will try a simple version, where we do multiple train/val splits and take the average of validation accuracies as the test accuracy estimation. Here is a function for doing this. Note that this function will take a long time to execute. You can reduce the number of splits to make it faster."
      ]
    },
    {
      "cell_type": "code",
      "execution_count": 14,
      "metadata": {
        "id": "E4nGCUQXBTzo"
      },
      "outputs": [],
      "source": [
        "def AverageAccuracy(alldata, alllabel, splitpercent, iterations, classifier=NN):\n",
        "    \"\"\"\n",
        "    This function takes in the data, labels, split percentage, number of iterations and classifier function\n",
        "    and returns the average accuracy of the classifier\n",
        "\n",
        "    alldata: numpy array of shape (n,d) where n is the number of samples and d is the number of features\n",
        "    alllabel: numpy array of shape (n,) where n is the number of samples\n",
        "    splitpercent: float which is the percentage of data to be used for training\n",
        "    iterations: int which is the number of iterations to run the classifier\n",
        "    classifier: function which is the classifier function to be used\n",
        "\n",
        "    returns: the average accuracy of the classifier\n",
        "    \"\"\"\n",
        "    accuracy = 0\n",
        "    for ii in range(iterations):\n",
        "        traindata, trainlabel, valdata, vallabel = split(\n",
        "            alldata, alllabel, splitpercent\n",
        "        )\n",
        "        valpred = classifier(traindata, trainlabel, valdata)\n",
        "        accuracy += Accuracy(vallabel, valpred)\n",
        "    return accuracy / iterations  # average of all accuracies"
      ]
    },
    {
      "cell_type": "code",
      "execution_count": 15,
      "metadata": {
        "colab": {
          "base_uri": "https://localhost:8080/"
        },
        "id": "H3qtNar7Bbik",
        "outputId": "cad5379d-a11b-4fea-e7cb-7db389689e91"
      },
      "outputs": [
        {
          "output_type": "stream",
          "name": "stdout",
          "text": [
            "Average validation accuracy: 33.58463539517022 %\n",
            "Test accuracy: 34.91795366795367 %\n"
          ]
        }
      ],
      "source": [
        "avg_acc = AverageAccuracy(alltraindata, alltrainlabel, 75 / 100, 10, classifier=NN)\n",
        "print(\"Average validation accuracy:\", avg_acc*100, \"%\")\n",
        "testpred = NN(alltraindata, alltrainlabel, testdata)\n",
        "\n",
        "print(\"Test accuracy:\", Accuracy(testlabel, testpred)*100, \"%\")"
      ]
    },
    {
      "cell_type": "markdown",
      "metadata": {
        "id": "33GIn4x5VH-d"
      },
      "source": [
        "This is a very simple way of doing cross-validation. There are many well-known algorithms for cross-validation, like k-fold cross-validation, leave-one-out etc. This will be covered in detail in a later module. For more information about cross-validation, check <a href=https://en.wikipedia.org/wiki/Cross-validation_(statistics)>Cross-validatioin (Wikipedia)</a>\n",
        "\n",
        "### Questions\n",
        "1. Does averaging the validation accuracy across multiple splits give more consistent results?\n",
        "2. Does it give more accurate estimate of test accuracy?\n",
        "3. What is the effect of the number of iterations on the estimate? Do we get a better estimate with higher iterations?\n",
        "4. Consider the results you got for the previous questions. Can we deal with a very small train dataset or validation dataset by increasing the iterations?\n"
      ]
    },
    {
      "cell_type": "markdown",
      "source": [
        "1.Yes, averaging validation accuracy across multiple splits typically provides more consistent and reliable results. This approach is commonly used in cross-validation techniques, such as k-fold cross-validation, where the dataset is divided into multiple folds, and the model is trained and validated on different subsets of the data.\n",
        "\n",
        "### Benefits of Averaging Validation Accuracy Across Multiple Splits\n",
        "\n",
        "1. **Reduced Variance**: Averaging over multiple splits reduces the variance caused by random splits of the data. Single splits can be biased if the training and validation sets are not representative of the overall data distribution.\n",
        "\n",
        "2. **Better Generalization Estimate**: Averaging provides a more robust estimate of how the model will perform on unseen data, as it considers different portions of the data in both training and validation.\n",
        "\n",
        "3. **Mitigates the Effect of Outliers**: Single splits might be significantly affected by outliers or particular data points. Multiple splits dilute the influence of such anomalies, leading to more stable accuracy measurements.\n",
        "\n",
        "4. **Consistency and Reliability**: Averaging smoothens the results, making them less sensitive to the specific data partition used in each split, thus providing a clearer picture of the model’s performance.\n",
        "\n",
        "5. **Improved Hyperparameter Tuning**: When used during hyperparameter tuning, averaged metrics across multiple splits provide more reliable feedback, helping in better model optimization.\n",
        "2.Yes, averaging validation accuracy across multiple splits typically provides a more accurate estimate of test accuracy. This is because it addresses several key factors that contribute to the reliability of performance metrics:\n",
        "\n",
        "### How Averaging Improves Test Accuracy Estimates\n",
        "\n",
        "1. **Better Representation of Data Variability**: By using multiple splits, the model is exposed to various subsets of the data, including different combinations of training and validation samples. This exposure helps the model learn patterns that are more representative of the overall dataset, leading to a better generalization estimate.\n",
        "\n",
        "2. **Minimizes Overfitting to Specific Splits**: Single splits can lead to models that perform well on a particular validation set but not necessarily on unseen data. Averaging over multiple splits reduces the likelihood that the model's performance is artificially inflated due to the peculiarities of a single split.\n",
        "\n",
        "3. **Captures a Wider Range of Scenarios**: Each split tests the model on different portions of the data, ensuring that performance isn't overly influenced by any one segment. This approach captures a broader range of possible scenarios that the model might encounter in real-world testing.\n",
        "\n",
        "4. **Reduces the Impact of Randomness**: The randomness inherent in data splitting can cause significant fluctuations in performance metrics. Averaging mitigates this randomness, leading to a more stable and reliable estimate of how the model will perform on new, unseen data.\n",
        "\n",
        "5. **More Reliable Indicator of True Performance**: Since test accuracy is ultimately about how well the model generalizes, using multiple validation splits provides a closer approximation of this by effectively simulating multiple independent test scenarios.\n",
        "\n",
        "### Cross-Validation as a Common Approach\n",
        "\n",
        "The most common approach for achieving this is k-fold cross-validation, where the data is divided into k subsets, and the model is trained and validated k times, each time using a different subset as the validation set and the rest for training. The average of these validation results serves as a robust proxy for test accuracy.\n",
        "\n",
        "### Key Takeaway\n",
        "\n",
        "Averaging validation accuracy across multiple splits does not just provide consistency—it also serves as a more accurate indicator of a model’s expected performance on unseen test data, making it an essential practice for robust model evaluation.\n",
        "3.The number of iterations (or folds, in the case of cross-validation) significantly affects the accuracy and stability of the performance estimate. Generally, increasing the number of iterations provides a more precise and reliable estimate of test accuracy, but there are trade-offs to consider.\n",
        "\n",
        "### Effects of Increasing the Number of Iterations\n",
        "\n",
        "1. **Improved Accuracy of the Estimate**:\n",
        "   - More iterations mean the model is trained and validated on more combinations of the data. This reduces the impact of any single split that might be unrepresentative, leading to a more accurate estimate of how the model will perform on unseen data.\n",
        "\n",
        "2. **Reduced Variance in Estimates**:\n",
        "   - A higher number of iterations smoothens the fluctuations in accuracy that can result from random variations in data splits. This reduction in variance makes the estimate more reliable and less sensitive to particular data partitions.\n",
        "\n",
        "3. **Better Use of Data**:\n",
        "   - With more iterations, especially in k-fold cross-validation, each data point is used multiple times for training and validation. For instance, in 10-fold cross-validation, each data point serves as a validation point once and as a training point nine times, maximizing the utility of the dataset.\n",
        "\n",
        "4. **Lower Bias in Estimates**:\n",
        "   - A single split or a small number of iterations might not capture the complete data distribution, leading to biased estimates. More iterations help average out these biases, providing a closer reflection of true model performance.\n",
        "\n",
        "### Trade-offs of Higher Iterations\n",
        "\n",
        "1. **Increased Computational Cost**:\n",
        "   - Each additional iteration requires training and evaluating the model again, which can significantly increase the overall computation time, especially with large datasets or complex models.\n",
        "\n",
        "2. **Diminishing Returns**:\n",
        "   - While increasing the number of iterations improves estimate quality, the marginal gain diminishes after a certain point. For example, moving from 5-fold to 10-fold cross-validation usually provides a noticeable improvement, but increasing from 10-fold to 20-fold yields less pronounced gains relative to the additional computational effort.\n",
        "\n",
        "3. **Potential Overfitting in Some Cases**:\n",
        "   - Excessive iterations might lead to overfitting on the validation process itself if hyperparameters are overly tuned based on these repeated evaluations, although this is more of a concern in hyperparameter tuning than in basic performance estimation.\n",
        "\n",
        "### Optimal Number of Iterations\n",
        "\n",
        "- **Common Practice**: A typical choice is 5 or 10 iterations (folds), as this strikes a balance between computational efficiency and the reliability of the performance estimate.\n",
        "- **High-Variance Data**: For highly variable or small datasets, more iterations (e.g., 10-20 folds) can be beneficial to obtain a robust estimate.\n",
        "- **Time Constraints**: When computational resources or time are limited, a smaller number of iterations (e.g., 5 folds) may be used, accepting slightly less precision.\n",
        "\n",
        "### Key Takeaway\n",
        "\n",
        "Increasing the number of iterations generally leads to a better estimate of test accuracy by reducing variance and bias. However, the improvements plateau after a point, and computational costs must be balanced against the gains in estimation accuracy.\n",
        "4.Increasing the number of iterations can help mitigate the effects of having a very small training or validation dataset, but it does not entirely solve the limitations associated with small datasets. Here’s how increased iterations impact small datasets and the extent to which they can help:\n",
        "\n",
        "### How Increased Iterations Affect Small Datasets\n",
        "\n",
        "1. **Maximizes Use of Data**:\n",
        "   - With more iterations, each data point gets used multiple times in both training and validation sets. For example, in k-fold cross-validation, every point is used as part of the training set in \\(k-1\\) iterations and as part of the validation set in 1 iteration. This maximization of data usage is particularly beneficial when the dataset is small.\n",
        "\n",
        "2. **Reduces Bias and Variance**:\n",
        "   - For small datasets, individual splits might not capture the overall data distribution, leading to high bias or variance in the estimates. By averaging across many iterations, the model's performance is assessed on diverse subsets, providing a more reliable estimate of its generalization capability.\n",
        "\n",
        "3. **Lessens the Impact of Outliers or Anomalies**:\n",
        "   - In small datasets, the effect of outliers or anomalies is more pronounced in individual splits. Increasing the number of iterations helps average out the influence of these unusual points, stabilizing the accuracy estimates.\n",
        "\n",
        "4. **Provides Better Insight into Model Performance**:\n",
        "   - With limited data, each training-validation cycle becomes critical in understanding how the model might generalize. More iterations allow for a more nuanced view of performance, revealing how well the model handles variability in training data.\n",
        "\n",
        "### Limitations of Increasing Iterations on Small Datasets\n",
        "\n",
        "1. **Diminishing Returns**:\n",
        "   - Simply increasing iterations does not add new data; it only reshuffles existing data. While this can provide more robust estimates, it cannot fully compensate for the fundamental limitations of having insufficient data for learning complex patterns.\n",
        "\n",
        "2. **Risk of Overfitting to Small Validation Sets**:\n",
        "   - In very small datasets, each validation set might be tiny, leading to high variance in performance estimates. Even with many iterations, the small validation size can make it challenging to get a reliable measure of how the model performs on unseen data.\n",
        "\n",
        "3. **Poor Generalization**:\n",
        "   - Small training sets can lead to models that underfit or overfit due to the lack of sufficient data for capturing underlying trends. Even with increased iterations, the model might not learn adequately if the training samples are too few or unrepresentative.\n",
        "\n",
        "4. **High Variance in Small Validation Scores**:\n",
        "   - When validation sets are very small, performance scores can fluctuate significantly between iterations. Averaging many such scores can still result in an unstable or unreliable estimate, especially if certain validation sets do not represent the broader data distribution well.\n",
        "\n",
        "### Practical Approaches for Small Datasets\n",
        "\n",
        "- **Data Augmentation**: In fields like image recognition, augmenting data (e.g., rotating, flipping images) can increase the effective size of the training set, helping the model learn better despite limited original data.\n",
        "  \n",
        "- **Cross-Validation with Stratification**: Ensuring that each split maintains the overall distribution of classes (in classification tasks) helps to make each fold more representative.\n",
        "\n",
        "- **Leave-One-Out Cross-Validation (LOOCV)**: For very small datasets, LOOCV (where each sample is used as a validation set once) makes maximum use of data. However, it can be computationally expensive and may still suffer from high variance.\n",
        "\n",
        "- **Simpler Models or Regularization**: Using simpler models or adding regularization can prevent overfitting when training data is limited.\n",
        "\n",
        "### Key Takeaway\n",
        "\n",
        "Increasing the number of iterations helps extract as much information as possible from small datasets and provides more stable performance estimates. However, it cannot overcome the fundamental limitations of having a very small amount of data, and careful attention to model choice, regularization, and data augmentation remains essential."
      ],
      "metadata": {
        "id": "EfWks_SLwmMh"
      }
    },
    {
      "cell_type": "markdown",
      "metadata": {
        "id": "z-SBxy1qevgJ"
      },
      "source": [
        "> Exercise: How does the accuracy of the 3 nearest neighbour classifier change with the number of splits? How is it affected by the split size? Compare the results with the 1 nearest neighbour classifier."
      ]
    },
    {
      "cell_type": "markdown",
      "source": [
        "The performance of k-Nearest Neighbors (k-NN) classifiers, such as 3-NN and 1-NN, can be sensitive to the number of splits and the size of each split during cross-validation. Here’s a detailed look at how these factors affect their accuracy:\n",
        "\n",
        "### Effect of the Number of Splits on k-NN Classifiers\n",
        "\n",
        "1. **3-NN Classifier**:\n",
        "   - **More Splits (Higher k-fold)**: As the number of splits increases (e.g., from 5 to 10 or even LOOCV), each fold uses a larger proportion of the dataset for training and a smaller proportion for validation. This generally provides a more reliable estimate of the model’s performance by reducing the variability of accuracy scores across folds. The 3-NN classifier, which considers the three nearest neighbors, often benefits from this as it reduces the effect of noise or outliers in validation sets.\n",
        "   - **Stability and Robustness**: With more splits, the averaged performance across folds becomes more stable, as each validation set is smaller and provides a finer test of generalization.\n",
        "\n",
        "2. **1-NN Classifier**:\n",
        "   - **More Splits (Higher k-fold)**: 1-NN is particularly sensitive to the individual data points since it bases its prediction solely on the nearest neighbor. More splits can lead to high variability in performance, especially in small validation sets where a single point can dramatically influence the result. However, with more iterations, the average accuracy provides a broader view of performance across multiple partitions, potentially smoothing out some fluctuations.\n",
        "   - **Higher Variance**: Since 1-NN relies on just one nearest point, it tends to have higher variance in accuracy compared to 3-NN. Increasing the number of splits can help mitigate this variance slightly by averaging over many iterations, but it does not eliminate the inherent sensitivity of the 1-NN classifier.\n",
        "\n",
        "### Effect of Split Size on k-NN Classifiers\n",
        "\n",
        "1. **3-NN Classifier**:\n",
        "   - **Larger Training Sets (Smaller Validation Sets)**: As the split size increases (i.e., more training data per split), the 3-NN classifier generally performs better because it has more data to accurately define local structures and identify the nearest neighbors. This leads to better generalization and smoother decision boundaries.\n",
        "   - **Smaller Training Sets (Larger Validation Sets)**: When the training set is small, the 3-NN classifier can suffer from reduced accuracy because fewer data points are available to define the neighborhood, increasing the likelihood of noisy or unrepresentative neighbors affecting predictions.\n",
        "\n",
        "2. **1-NN Classifier**:\n",
        "   - **Larger Training Sets (Smaller Validation Sets)**: 1-NN benefits from larger training sets because it has more data points to choose from when finding the nearest neighbor, which helps reduce the impact of noise and anomalies. However, the 1-NN classifier is still prone to higher variance because each decision is highly localized to a single point.\n",
        "   - **Smaller Training Sets (Larger Validation Sets)**: With fewer training points, the 1-NN classifier can struggle as it may not have a representative point for certain regions, leading to erratic or overly sensitive predictions.\n",
        "\n",
        "### Comparative Results: 3-NN vs. 1-NN\n",
        "\n",
        "1. **Accuracy Stability**:\n",
        "   - **3-NN** generally provides more stable accuracy estimates across different splits because it averages decisions across three neighbors, making it less sensitive to individual data points.\n",
        "   - **1-NN** is less stable, with accuracy varying more significantly depending on the split due to its reliance on a single neighbor for each decision.\n",
        "\n",
        "2. **Sensitivity to Split Size**:\n",
        "   - **3-NN** performs better with larger training sizes and can manage small validation sets more effectively due to its averaging effect.\n",
        "   - **1-NN** is more affected by the split size and can have extreme performance variations, especially with smaller training sizes.\n",
        "\n",
        "3. **Bias-Variance Trade-off**:\n",
        "   - **3-NN** has slightly higher bias but lower variance compared to 1-NN. This makes it generally more robust, especially when split sizes are not optimal.\n",
        "   - **1-NN** has low bias but high variance, which can lead to high accuracy in some splits but poor generalization overall.\n",
        "\n",
        "### Key Takeaway\n",
        "\n",
        "- **3-NN** tends to have a more stable and reliable accuracy across varying numbers of splits and split sizes, making it preferable in most scenarios, especially when noise or outliers are present.\n",
        "- **1-NN** is more sensitive to split sizes and the number of splits, often resulting in higher variance and less consistent performance. Increasing the number of splits helps average out some of this variance but does not fully address the sensitivity of 1-NN to individual data points.\n",
        "\n",
        "Ultimately, 3-NN provides a more balanced performance, especially when evaluated across multiple cross-validation folds, making it generally more suitable for practical use compared to 1-NN, particularly in noisy or small dataset scenarios."
      ],
      "metadata": {
        "id": "ZxaYmP8QyHkU"
      }
    }
  ],
  "metadata": {
    "colab": {
      "provenance": [],
      "include_colab_link": true
    },
    "kernelspec": {
      "display_name": "Python 3",
      "name": "python3"
    },
    "language_info": {
      "codemirror_mode": {
        "name": "ipython",
        "version": 3
      },
      "file_extension": ".py",
      "mimetype": "text/x-python",
      "name": "python",
      "nbconvert_exporter": "python",
      "pygments_lexer": "ipython3",
      "version": "3.10.10"
    }
  },
  "nbformat": 4,
  "nbformat_minor": 0
}